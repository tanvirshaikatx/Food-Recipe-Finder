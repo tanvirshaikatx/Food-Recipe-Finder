{
 "cells": [
  {
   "cell_type": "code",
   "execution_count": 4,
   "id": "67926e16",
   "metadata": {},
   "outputs": [
    {
     "name": "stdout",
     "output_type": "stream",
     "text": [
      "Error: 400 {\"error\": \"This endpoint is currently down for free users. Please upgrade to a premium subscription or try again later.\"}\n"
     ]
    }
   ],
   "source": [
    "import requests\n",
    "\n",
    "api_key= 'raBfmBnGSgfgvyzu2V+xEg==LOUVUAdCYrYk1a3V'\n",
    "\n",
    "query ='Granny Smith'\n",
    "\n",
    "api_url = 'https://api.api-ninjas.com/v1/nutrition?query={}'.format(query)\n",
    "\n",
    "# Make GET request with API key\n",
    "\n",
    "response = requests.get(api_url, headers={'X-Api-Key': api_key})\n",
    "\n",
    "# Check response status\n",
    "\n",
    "if response.status_code == requests.codes.ok:\n",
    "\n",
    "    print(response.text)\n",
    "\n",
    "else:\n",
    "\n",
    "    print(\"Error:\", response.status_code, response.text)"
   ]
  },
  {
   "cell_type": "code",
   "execution_count": null,
   "id": "999001ac",
   "metadata": {},
   "outputs": [],
   "source": []
  }
 ],
 "metadata": {
  "kernelspec": {
   "display_name": "venv",
   "language": "python",
   "name": "python3"
  },
  "language_info": {
   "codemirror_mode": {
    "name": "ipython",
    "version": 3
   },
   "file_extension": ".py",
   "mimetype": "text/x-python",
   "name": "python",
   "nbconvert_exporter": "python",
   "pygments_lexer": "ipython3",
   "version": "3.10.0"
  }
 },
 "nbformat": 4,
 "nbformat_minor": 5
}
